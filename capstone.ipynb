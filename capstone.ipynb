{
 "cells": [
  {
   "cell_type": "code",
   "execution_count": 2,
   "metadata": {},
   "outputs": [],
   "source": [
    "# Colin Crowe (cbc6ghd)\n",
    "\n",
    "import random as rd"
   ]
  },
  {
   "cell_type": "code",
   "execution_count": 3,
   "metadata": {},
   "outputs": [],
   "source": [
    "net = []\n",
    "net.append([0,1,0,0,1])\n",
    "net.append([1,0,1,1,0])\n",
    "net.append([0,1,0,0,1])\n",
    "net.append([0,1,0,0,1])\n",
    "net.append([1,0,1,1,0])"
   ]
  },
  {
   "cell_type": "code",
   "execution_count": 4,
   "metadata": {},
   "outputs": [],
   "source": [
    "for i in range(5):\n",
    "    for j in range(5):\n",
    "        assert net[i][j] == net[j][i]"
   ]
  },
  {
   "cell_type": "code",
   "execution_count": 5,
   "metadata": {},
   "outputs": [],
   "source": [
    "sewer = []\n",
    "sewer.append([0,1,0,0,0])\n",
    "sewer.append([0,0,1,0,0])\n",
    "sewer.append([0,0,0,1,0])\n",
    "sewer.append([0,0,0,0,1])\n",
    "sewer.append([0,0,0,0,0])"
   ]
  },
  {
   "cell_type": "code",
   "execution_count": 6,
   "metadata": {},
   "outputs": [],
   "source": [
    "status = [0,0,0,1,0]\n",
    "# 0 = susceptible\n",
    "# 1 = infected\n",
    "# 2 = recovered"
   ]
  },
  {
   "cell_type": "code",
   "execution_count": 64,
   "metadata": {},
   "outputs": [],
   "source": [
    "rates = [0.5, 0.1]"
   ]
  },
  {
   "cell_type": "code",
   "execution_count": 69,
   "metadata": {},
   "outputs": [],
   "source": [
    "def simple_simulate(net, sewer, status, rates, time):\n",
    "    t = 0\n",
    "    \n",
    "    infected = []\n",
    "    recovered = []\n",
    "    samples = []\n",
    "    for i in range(len(status)):\n",
    "        if status[i] == 1:\n",
    "            infected.append(i)\n",
    "        elif status[i] == 2:\n",
    "            recovered.append(i)\n",
    "    \n",
    "    while(t < time):\n",
    "        t += 1\n",
    "        \n",
    "        new_infected = []\n",
    "        for i in infected:\n",
    "            \n",
    "            # infecting others\n",
    "            for j in range(len(net[i])):\n",
    "                if net[i][j] != 0 and j not in infected and j not in recovered and j not in new_infected:\n",
    "                    # there is a chance to get infected\n",
    "                    chance = rd.random()\n",
    "                    if chance < rates[0]:\n",
    "                        new_infected.append(j)\n",
    "            \n",
    "            # recovering\n",
    "            chance = rd.random()\n",
    "            if chance < rates[1]:\n",
    "                infected.remove(i)\n",
    "                recovered.append(i)\n",
    "                \n",
    "        for i in new_infected:\n",
    "            infected.append(i)\n",
    "                \n",
    "        print(\"TIME ---------------------------------\", t)\n",
    "        print(\"INFECTED:\", infected, \"RECOVERED:\", recovered)\n",
    "        # print(\"RECOVERED:\", recovered)\n",
    "        # print(\"VIABLE SAMPLE LOCATIONS:\", samples, \"\\n\")\n",
    "        \n",
    "    \n",
    "    return infected, recovered"
   ]
  },
  {
   "cell_type": "code",
   "execution_count": 70,
   "metadata": {},
   "outputs": [
    {
     "name": "stdout",
     "output_type": "stream",
     "text": [
      "TIME --------------------------------- 1\n",
      "INFECTED: [3, 1] RECOVERED: []\n",
      "TIME --------------------------------- 2\n",
      "INFECTED: [3, 1, 4, 0, 2] RECOVERED: []\n",
      "TIME --------------------------------- 3\n",
      "INFECTED: [3, 1, 4, 0] RECOVERED: [2]\n",
      "TIME --------------------------------- 4\n",
      "INFECTED: [3, 1, 4, 0] RECOVERED: [2]\n",
      "TIME --------------------------------- 5\n",
      "INFECTED: [1, 4] RECOVERED: [2, 3, 0]\n",
      "TIME --------------------------------- 6\n",
      "INFECTED: [1, 4] RECOVERED: [2, 3, 0]\n",
      "TIME --------------------------------- 7\n",
      "INFECTED: [1, 4] RECOVERED: [2, 3, 0]\n",
      "TIME --------------------------------- 8\n",
      "INFECTED: [1, 4] RECOVERED: [2, 3, 0]\n",
      "TIME --------------------------------- 9\n",
      "INFECTED: [1, 4] RECOVERED: [2, 3, 0]\n",
      "TIME --------------------------------- 10\n",
      "INFECTED: [1] RECOVERED: [2, 3, 0, 4]\n"
     ]
    },
    {
     "data": {
      "text/plain": [
       "([1], [2, 3, 0, 4])"
      ]
     },
     "execution_count": 70,
     "metadata": {},
     "output_type": "execute_result"
    }
   ],
   "source": [
    "simple_simulate(net, sewer, status, rates, 10)"
   ]
  },
  {
   "cell_type": "code",
   "execution_count": null,
   "metadata": {},
   "outputs": [],
   "source": []
  },
  {
   "cell_type": "code",
   "execution_count": null,
   "metadata": {},
   "outputs": [],
   "source": []
  }
 ],
 "metadata": {
  "kernelspec": {
   "display_name": "Python 3",
   "language": "python",
   "name": "python3"
  },
  "language_info": {
   "codemirror_mode": {
    "name": "ipython",
    "version": 3
   },
   "file_extension": ".py",
   "mimetype": "text/x-python",
   "name": "python",
   "nbconvert_exporter": "python",
   "pygments_lexer": "ipython3",
   "version": "3.8.3"
  }
 },
 "nbformat": 4,
 "nbformat_minor": 4
}
