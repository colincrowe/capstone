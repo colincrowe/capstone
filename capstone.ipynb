{
 "cells": [
  {
   "cell_type": "code",
   "execution_count": 1,
   "metadata": {},
   "outputs": [],
   "source": [
    "# Colin Crowe (cbc6ghd)\n",
    "\n",
    "import random as rd"
   ]
  },
  {
   "cell_type": "code",
   "execution_count": 2,
   "metadata": {},
   "outputs": [],
   "source": [
    "net = []\n",
    "net.append([0,1,0,0,1])\n",
    "net.append([1,0,1,1,0])\n",
    "net.append([0,1,0,0,1])\n",
    "net.append([0,1,0,0,1])\n",
    "net.append([1,0,1,1,0])"
   ]
  },
  {
   "cell_type": "code",
   "execution_count": 3,
   "metadata": {},
   "outputs": [],
   "source": [
    "for i in range(5):\n",
    "    for j in range(5):\n",
    "        assert net[i][j] == net[j][i]"
   ]
  },
  {
   "cell_type": "code",
   "execution_count": 4,
   "metadata": {},
   "outputs": [],
   "source": [
    "sewer = []\n",
    "sewer.append([0,1,0,0,0])\n",
    "sewer.append([0,0,1,0,0])\n",
    "sewer.append([0,0,0,1,0])\n",
    "sewer.append([0,0,0,0,1])\n",
    "sewer.append([0,0,0,0,0])"
   ]
  },
  {
   "cell_type": "code",
   "execution_count": 5,
   "metadata": {},
   "outputs": [],
   "source": [
    "status = [0,0,0,1,0]\n",
    "samples = [0,0,0,0,0]\n",
    "# 0 = susceptible\n",
    "# 1 = infected\n",
    "# 2 = recovered"
   ]
  },
  {
   "cell_type": "code",
   "execution_count": 12,
   "metadata": {},
   "outputs": [],
   "source": [
    "rates = [0.5, 0.2]"
   ]
  },
  {
   "cell_type": "code",
   "execution_count": 13,
   "metadata": {},
   "outputs": [],
   "source": [
    "def simple_simulate(net, sewer, status, rates, time):\n",
    "    t = 0\n",
    "    \n",
    "    infected = []\n",
    "    recovered = []\n",
    "    samples = []\n",
    "    for i in range(len(status)):\n",
    "        if status[i] == 1:\n",
    "            infected.append(i)\n",
    "        elif status[i] == 2:\n",
    "            recovered.append(i)\n",
    "    \n",
    "    while(t < time):\n",
    "        t += 1\n",
    "        \n",
    "        new_infected = []\n",
    "        for i in infected:\n",
    "            \n",
    "            # infecting others\n",
    "            for j in range(len(net[i])):\n",
    "                if net[i][j] != 0 and j not in infected and j not in recovered and j not in new_infected:\n",
    "                    # there is a chance to get infected\n",
    "                    chance = rd.random()\n",
    "                    if chance < rates[0]:\n",
    "                        new_infected.append(j)\n",
    "            \n",
    "            # recovering\n",
    "            chance = rd.random()\n",
    "            if chance < rates[1]:\n",
    "                infected.remove(i)\n",
    "                recovered.append(i)\n",
    "                \n",
    "        for i in new_infected:\n",
    "            infected.append(i)\n",
    "                \n",
    "        print(\"TIME ---------------------------------\", t)\n",
    "        print(\"INFECTED:\", infected, \"RECOVERED:\", recovered)\n",
    "        # print(\"RECOVERED:\", recovered)\n",
    "        # print(\"VIABLE SAMPLE LOCATIONS:\", samples, \"\\n\")\n",
    "        \n",
    "    \n",
    "    return infected, recovered"
   ]
  },
  {
   "cell_type": "code",
   "execution_count": 15,
   "metadata": {},
   "outputs": [
    {
     "name": "stdout",
     "output_type": "stream",
     "text": [
      "TIME --------------------------------- 1\n",
      "INFECTED: [3, 4] RECOVERED: []\n",
      "TIME --------------------------------- 2\n",
      "INFECTED: [3, 4, 1, 0, 2] RECOVERED: []\n",
      "TIME --------------------------------- 3\n",
      "INFECTED: [3, 4, 1, 2] RECOVERED: [0]\n",
      "TIME --------------------------------- 4\n",
      "INFECTED: [4, 1] RECOVERED: [0, 3, 2]\n",
      "TIME --------------------------------- 5\n",
      "INFECTED: [4, 1] RECOVERED: [0, 3, 2]\n",
      "TIME --------------------------------- 6\n",
      "INFECTED: [1] RECOVERED: [0, 3, 2, 4]\n",
      "TIME --------------------------------- 7\n",
      "INFECTED: [1] RECOVERED: [0, 3, 2, 4]\n",
      "TIME --------------------------------- 8\n",
      "INFECTED: [1] RECOVERED: [0, 3, 2, 4]\n",
      "TIME --------------------------------- 9\n",
      "INFECTED: [1] RECOVERED: [0, 3, 2, 4]\n",
      "TIME --------------------------------- 10\n",
      "INFECTED: [1] RECOVERED: [0, 3, 2, 4]\n"
     ]
    },
    {
     "data": {
      "text/plain": [
       "([1], [0, 3, 2, 4])"
      ]
     },
     "execution_count": 15,
     "metadata": {},
     "output_type": "execute_result"
    }
   ],
   "source": [
    "simple_simulate(net, sewer, status, rates, 10)"
   ]
  },
  {
   "cell_type": "code",
   "execution_count": 26,
   "metadata": {},
   "outputs": [],
   "source": [
    "def sample_simulate(net, sewer, status, rates, time):\n",
    "    t = 0\n",
    "    \n",
    "    infected = []\n",
    "    recovered = []\n",
    "    samples = []\n",
    "    for i in range(len(status)):\n",
    "        if status[i] == 1:\n",
    "            infected.append(i)\n",
    "        elif status[i] == 2:\n",
    "            recovered.append(i)\n",
    "        samples.append(0)\n",
    "    \n",
    "    while(t < time):\n",
    "        t += 1\n",
    "        \n",
    "        # propagate sewer sampling locations\n",
    "        new_samples = []\n",
    "        for i in range(len(samples)):\n",
    "            if samples[i] == 1:\n",
    "                for j in range(len(sewer[i])):\n",
    "                    if sewer[i][j] != 0: # and samples[j] == 0:\n",
    "                        new_samples.append(j)\n",
    "            samples[i] = 0\n",
    "        for i in new_samples:\n",
    "            samples[i] = 1\n",
    "        \n",
    "        # disease spread\n",
    "        new_infected = []\n",
    "        for i in infected:\n",
    "            \n",
    "            # infected nodes infect others\n",
    "            for j in range(len(net[i])):\n",
    "                if net[i][j] != 0 and j not in infected and j not in recovered and j not in new_infected:\n",
    "                    # there is a chance to get infected\n",
    "                    chance = rd.random()\n",
    "                    if chance < rates[0]:\n",
    "                        new_infected.append(j)\n",
    "            \n",
    "            # recovering\n",
    "            chance = rd.random()\n",
    "            if chance < rates[1]:\n",
    "                infected.remove(i)\n",
    "                recovered.append(i)\n",
    "                \n",
    "        for i in new_infected:\n",
    "            infected.append(i)\n",
    "            \n",
    "        # new samples in sewer\n",
    "        for i in infected:\n",
    "            samples[i] = 1\n",
    "                \n",
    "        print(\"TIME ---------------------------------\", t)\n",
    "        print(\"INFECTED:\", infected, \"RECOVERED:\", recovered)\n",
    "        # print(\"RECOVERED:\", recovered)\n",
    "        print(\"VIABLE SAMPLE LOCATIONS:\", samples)\n",
    "        \n",
    "    \n",
    "    return infected, recovered"
   ]
  },
  {
   "cell_type": "code",
   "execution_count": 29,
   "metadata": {},
   "outputs": [
    {
     "name": "stdout",
     "output_type": "stream",
     "text": [
      "TIME --------------------------------- 1\n",
      "INFECTED: [3, 1] RECOVERED: []\n",
      "VIABLE SAMPLE LOCATIONS: [0, 1, 0, 1, 0]\n",
      "TIME --------------------------------- 2\n",
      "INFECTED: [1, 4] RECOVERED: [3]\n",
      "VIABLE SAMPLE LOCATIONS: [0, 1, 1, 0, 1]\n",
      "TIME --------------------------------- 3\n",
      "INFECTED: [1, 4, 2] RECOVERED: [3]\n",
      "VIABLE SAMPLE LOCATIONS: [0, 1, 1, 1, 1]\n",
      "TIME --------------------------------- 4\n",
      "INFECTED: [4, 2, 0] RECOVERED: [3, 1]\n",
      "VIABLE SAMPLE LOCATIONS: [1, 0, 1, 1, 1]\n",
      "TIME --------------------------------- 5\n",
      "INFECTED: [2] RECOVERED: [3, 1, 4, 0]\n",
      "VIABLE SAMPLE LOCATIONS: [0, 1, 1, 1, 1]\n",
      "TIME --------------------------------- 6\n",
      "INFECTED: [2] RECOVERED: [3, 1, 4, 0]\n",
      "VIABLE SAMPLE LOCATIONS: [0, 0, 1, 1, 1]\n",
      "TIME --------------------------------- 7\n",
      "INFECTED: [2] RECOVERED: [3, 1, 4, 0]\n",
      "VIABLE SAMPLE LOCATIONS: [0, 0, 1, 1, 1]\n",
      "TIME --------------------------------- 8\n",
      "INFECTED: [] RECOVERED: [3, 1, 4, 0, 2]\n",
      "VIABLE SAMPLE LOCATIONS: [0, 0, 0, 1, 1]\n",
      "TIME --------------------------------- 9\n",
      "INFECTED: [] RECOVERED: [3, 1, 4, 0, 2]\n",
      "VIABLE SAMPLE LOCATIONS: [0, 0, 0, 0, 1]\n",
      "TIME --------------------------------- 10\n",
      "INFECTED: [] RECOVERED: [3, 1, 4, 0, 2]\n",
      "VIABLE SAMPLE LOCATIONS: [0, 0, 0, 0, 0]\n"
     ]
    },
    {
     "data": {
      "text/plain": [
       "([], [3, 1, 4, 0, 2])"
      ]
     },
     "execution_count": 29,
     "metadata": {},
     "output_type": "execute_result"
    }
   ],
   "source": [
    "sample_simulate(net, sewer, status, rates, 10)"
   ]
  },
  {
   "cell_type": "code",
   "execution_count": null,
   "metadata": {},
   "outputs": [],
   "source": []
  }
 ],
 "metadata": {
  "kernelspec": {
   "display_name": "Python 3",
   "language": "python",
   "name": "python3"
  },
  "language_info": {
   "codemirror_mode": {
    "name": "ipython",
    "version": 3
   },
   "file_extension": ".py",
   "mimetype": "text/x-python",
   "name": "python",
   "nbconvert_exporter": "python",
   "pygments_lexer": "ipython3",
   "version": "3.8.3"
  }
 },
 "nbformat": 4,
 "nbformat_minor": 4
}
