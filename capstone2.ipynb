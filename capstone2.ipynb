{
 "cells": [
  {
   "cell_type": "code",
   "execution_count": 1,
   "metadata": {},
   "outputs": [],
   "source": [
    "import random as rd"
   ]
  },
  {
   "cell_type": "code",
   "execution_count": 2,
   "metadata": {},
   "outputs": [],
   "source": [
    "class Node():\n",
    "    adjacent = []\n",
    "    nearest_manhole = None\n",
    "    def __init__(self, name, status=0, samplable=False):\n",
    "        self.name = name\n",
    "        self.status = status\n",
    "        self.samplable = samplable\n",
    "    def __str__(self):\n",
    "        return str(self.name) + \" | STATUS: \" + str(self.status) + \" | ADJ: \" + str(self.adjacent)"
   ]
  },
  {
   "cell_type": "code",
   "execution_count": 3,
   "metadata": {},
   "outputs": [
    {
     "name": "stdout",
     "output_type": "stream",
     "text": [
      "0 | STATUS: 0 | ADJ: []\n",
      "2 | STATUS: 1 | ADJ: []\n"
     ]
    }
   ],
   "source": [
    "test = Node(0)\n",
    "print(test)\n",
    "test2 = Node(2, status=1)\n",
    "print(test2)"
   ]
  },
  {
   "cell_type": "code",
   "execution_count": 4,
   "metadata": {},
   "outputs": [],
   "source": [
    "def build_SIR_net(file_in):\n",
    "    nodes = []\n",
    "    counter = 0\n",
    "    with open(file_in) as f:\n",
    "        while(True):\n",
    "            line = f.readline()\n",
    "        \n",
    "            # check for end of file\n",
    "            if len(line) == 0 or line == \"\\n\":\n",
    "                break\n",
    "        \n",
    "            new = Node(counter)\n",
    "            split = line.split()\n",
    "            for i in range(len(split)):\n",
    "                split[i] = int(split[i])\n",
    "            new.adjacent = split\n",
    "            nodes.append(new)\n",
    "            counter += 1\n",
    "        \n",
    "    return nodes"
   ]
  },
  {
   "cell_type": "code",
   "execution_count": 5,
   "metadata": {},
   "outputs": [
    {
     "name": "stdout",
     "output_type": "stream",
     "text": [
      "[<__main__.Node object at 0x00000160F2622190>, <__main__.Node object at 0x00000160F261D2B0>, <__main__.Node object at 0x00000160F261D250>, <__main__.Node object at 0x00000160F2617A00>, <__main__.Node object at 0x00000160F26176D0>]\n"
     ]
    }
   ],
   "source": [
    "net = build_SIR_net(\"sample.txt\")\n",
    "print(net)"
   ]
  },
  {
   "cell_type": "code",
   "execution_count": 6,
   "metadata": {},
   "outputs": [
    {
     "name": "stdout",
     "output_type": "stream",
     "text": [
      "0 | STATUS: 0 | ADJ: [1, 4]\n",
      "1 | STATUS: 0 | ADJ: [2, 3]\n",
      "2 | STATUS: 0 | ADJ: [1, 4]\n",
      "3 | STATUS: 0 | ADJ: [1, 4]\n",
      "4 | STATUS: 0 | ADJ: [0, 2]\n"
     ]
    }
   ],
   "source": [
    "for i in net:\n",
    "    print(i)"
   ]
  },
  {
   "cell_type": "code",
   "execution_count": 7,
   "metadata": {},
   "outputs": [],
   "source": [
    "def simple_simulate(net, rates, time):\n",
    "    t = 0\n",
    "    \n",
    "    infected = []\n",
    "    recovered = []\n",
    "    samples = []\n",
    "    for i in net:\n",
    "        if i.status == 1:\n",
    "            infected.append(i)\n",
    "        elif i.status == 2:\n",
    "            recovered.append(i)\n",
    "    \n",
    "    while(t < time):\n",
    "        t += 1\n",
    "        \n",
    "        new_infected = []\n",
    "        for i in infected:\n",
    "            \n",
    "            # infecting others\n",
    "            for j in i.adjacent:\n",
    "                j = net[j]\n",
    "                if j not in infected and j not in recovered and j not in new_infected:\n",
    "                    # there is a chance to get infected\n",
    "                    chance = rd.random()\n",
    "                    if chance < rates[0]:\n",
    "                        new_infected.append(j)\n",
    "            \n",
    "            # recovering\n",
    "            chance = rd.random()\n",
    "            if chance < rates[1]:\n",
    "                infected.remove(i)\n",
    "                recovered.append(i)\n",
    "                \n",
    "        for i in new_infected:\n",
    "            infected.append(i)\n",
    "                \n",
    "        print(\"TIME ---------------------------------\", t)\n",
    "        inf_string = \"\"\n",
    "        for i in infected:\n",
    "            inf_string += str(i.name) + \" \"\n",
    "        rec_string = \"\"\n",
    "        for i in recovered:\n",
    "            rec_string += str(i.name) + \" \"\n",
    "        print(\"INFECTED:\", inf_string, \"RECOVERED:\", rec_string)\n",
    "        # print(\"RECOVERED:\", recovered)\n",
    "        # print(\"VIABLE SAMPLE LOCATIONS:\", samples, \"\\n\")\n",
    "        \n",
    "    \n",
    "    return infected, recovered"
   ]
  },
  {
   "cell_type": "code",
   "execution_count": 8,
   "metadata": {},
   "outputs": [
    {
     "name": "stdout",
     "output_type": "stream",
     "text": [
      "0 | STATUS: 0 | ADJ: [1, 4]\n",
      "1 | STATUS: 0 | ADJ: [2, 3]\n",
      "2 | STATUS: 0 | ADJ: [1, 4]\n",
      "3 | STATUS: 1 | ADJ: [1, 4]\n",
      "4 | STATUS: 0 | ADJ: [0, 2]\n",
      "TIME --------------------------------- 1\n",
      "INFECTED: 3 1 4  RECOVERED: \n",
      "TIME --------------------------------- 2\n",
      "INFECTED: 3 4 2  RECOVERED: 1 \n",
      "TIME --------------------------------- 3\n",
      "INFECTED: 4 2  RECOVERED: 1 3 \n",
      "TIME --------------------------------- 4\n",
      "INFECTED: 2  RECOVERED: 1 3 4 \n",
      "TIME --------------------------------- 5\n",
      "INFECTED: 2  RECOVERED: 1 3 4 \n",
      "TIME --------------------------------- 6\n",
      "INFECTED:  RECOVERED: 1 3 4 2 \n",
      "TIME --------------------------------- 7\n",
      "INFECTED:  RECOVERED: 1 3 4 2 \n",
      "TIME --------------------------------- 8\n",
      "INFECTED:  RECOVERED: 1 3 4 2 \n",
      "TIME --------------------------------- 9\n",
      "INFECTED:  RECOVERED: 1 3 4 2 \n",
      "TIME --------------------------------- 10\n",
      "INFECTED:  RECOVERED: 1 3 4 2 \n"
     ]
    },
    {
     "data": {
      "text/plain": [
       "([],\n",
       " [<__main__.Node at 0x160f2612310>,\n",
       "  <__main__.Node at 0x160f26592e0>,\n",
       "  <__main__.Node at 0x160f2659940>,\n",
       "  <__main__.Node at 0x160f2659910>])"
      ]
     },
     "execution_count": 8,
     "metadata": {},
     "output_type": "execute_result"
    }
   ],
   "source": [
    "net = build_SIR_net(\"sample.txt\")\n",
    "net[3].status = 1\n",
    "for i in net:\n",
    "    print(i)\n",
    "simple_simulate(net, [0.5, 0.2], 10)"
   ]
  },
  {
   "cell_type": "code",
   "execution_count": 12,
   "metadata": {},
   "outputs": [],
   "source": [
    "def build_sewer_net(file_in):\n",
    "    nodes = []\n",
    "    counter = 0\n",
    "    with open(file_in) as f:\n",
    "        while(True):\n",
    "            line = f.readline()\n",
    "        \n",
    "            # check for end of SIR layer\n",
    "            if line == \"\\n\":\n",
    "                break\n",
    "        \n",
    "            new = Node(counter)\n",
    "            split = line.split()\n",
    "            for i in range(len(split)):\n",
    "                split[i] = int(split[i])\n",
    "            new.adjacent = split\n",
    "            nodes.append(new)\n",
    "            counter += 1\n",
    "            \n",
    "        # sewer time\n",
    "        sewer = {}\n",
    "        while(True):\n",
    "            line = f.readline()\n",
    "            \n",
    "            # check for end of manhole assignment\n",
    "            if line == \"\\n\":\n",
    "                break\n",
    "                \n",
    "            split = line.split()\n",
    "            name = \"\"\n",
    "            for i in range(len(split)):\n",
    "                name += split[i] + \"-\"\n",
    "                split[i] = int(split[i])\n",
    "            name = name[:-1]\n",
    "            new = Node(name)\n",
    "            new.adjacent = split\n",
    "            new.samplable = True\n",
    "            sewer[name] = new\n",
    "            \n",
    "            for i in split:\n",
    "                nodes[i].nearest_manhole = name\n",
    "                \n",
    "        # connecting manholes\n",
    "        while(True):\n",
    "            line = f.readline()\n",
    "            \n",
    "            # check for end of file\n",
    "            if len(line) == 0:\n",
    "                break\n",
    "                \n",
    "            split = line.split()\n",
    "            if split[1] != 'end':\n",
    "                sewer[split[0]].nearest_manhole = split[1]\n",
    "            else:\n",
    "                end = Node('end')\n",
    "                end.samplable = True\n",
    "                sewer['end'] = end\n",
    "                sewer[split[0]].nearest_manhole = 'end'\n",
    "        \n",
    "    return nodes, sewer"
   ]
  },
  {
   "cell_type": "code",
   "execution_count": 14,
   "metadata": {},
   "outputs": [
    {
     "name": "stdout",
     "output_type": "stream",
     "text": [
      "0 | STATUS: 0 | ADJ: [1, 4]\n",
      "0-4\n",
      "1 | STATUS: 0 | ADJ: [2, 3]\n",
      "1-2-3\n",
      "2 | STATUS: 0 | ADJ: [1, 4]\n",
      "1-2-3\n",
      "3 | STATUS: 1 | ADJ: [1, 4]\n",
      "1-2-3\n",
      "4 | STATUS: 0 | ADJ: [0, 2]\n",
      "0-4\n",
      "0-4 | STATUS: 0 | ADJ: [0, 4]\n",
      "1-2-3\n",
      "1-2-3 | STATUS: 0 | ADJ: [1, 2, 3]\n",
      "end\n",
      "end | STATUS: 0 | ADJ: []\n",
      "None\n",
      "{'0-4': <__main__.Node object at 0x00000160F2686040>, '1-2-3': <__main__.Node object at 0x00000160F26860A0>, 'end': <__main__.Node object at 0x00000160F2686100>}\n"
     ]
    }
   ],
   "source": [
    "net, sewer = build_sewer_net(\"sample.txt\")\n",
    "net[3].status = 1\n",
    "for i in net:\n",
    "    print(i)\n",
    "    print(i.nearest_manhole)\n",
    "for i in sewer.keys():\n",
    "    print(sewer[i])\n",
    "    print(sewer[i].nearest_manhole)\n",
    "    \n",
    "print(sewer)"
   ]
  },
  {
   "cell_type": "code",
   "execution_count": 26,
   "metadata": {},
   "outputs": [],
   "source": [
    "def sample_simulate(net, sewer, rates, time):\n",
    "    t = 0\n",
    "    \n",
    "    infected = []\n",
    "    recovered = []\n",
    "    samples = []\n",
    "    for i in net:\n",
    "        if i.status == 1:\n",
    "            infected.append(i)\n",
    "        elif i.status == 2:\n",
    "            recovered.append(i)\n",
    "            \n",
    "    timers = {}\n",
    "    for i in sewer.keys():\n",
    "        timers[i] = 99999999999999\n",
    "    \n",
    "    while(t < time):\n",
    "        t += 1\n",
    "        \n",
    "        new_infected = []\n",
    "        for i in infected:\n",
    "            \n",
    "            # infecting others\n",
    "            for j in i.adjacent:\n",
    "                j = net[j]\n",
    "                if j not in infected and j not in recovered and j not in new_infected:\n",
    "                    # there is a chance to get infected\n",
    "                    chance = rd.random()\n",
    "                    if chance < rates[0]:\n",
    "                        new_infected.append(j)\n",
    "            \n",
    "            # recovering\n",
    "            chance = rd.random()\n",
    "            if chance < rates[1]:\n",
    "                infected.remove(i)\n",
    "                recovered.append(i)\n",
    "                \n",
    "        for i in new_infected:\n",
    "            infected.append(i)\n",
    "            \n",
    "        # sewer propagation\n",
    "        # sewer_nxt = []\n",
    "        for i in sewer.keys():\n",
    "            if sewer[i].status == 1:\n",
    "                if sewer[i].nearest_manhole != None:\n",
    "                    nxt = sewer[i].nearest_manhole[0]\n",
    "                    weight = sewer[i].nearest_manhole[1]\n",
    "                    # sewer_nxt.append(nxt)\n",
    "                    timers[i] = min(timers[i], t + weight)\n",
    "                # sewer[i].status = 0\n",
    "                \n",
    "        for i in timers.keys():\n",
    "            if timers[i] == t:\n",
    "                sewer[i].status = 1\n",
    "        # for i in sewer_nxt:\n",
    "        #     sewer[i].status = 1\n",
    "        # for i in infected:\n",
    "        #     sewer[i.nearest_manhole].status = 1\n",
    "                \n",
    "        print(\"TIME ---------------------------------\", t)\n",
    "        inf_string = \"\"\n",
    "        for i in infected:\n",
    "            inf_string += str(i.name) + \" \"\n",
    "        rec_string = \"\"\n",
    "        for i in recovered:\n",
    "            rec_string += str(i.name) + \" \"\n",
    "        print(\"INFECTED:\", inf_string, \"RECOVERED:\", rec_string)\n",
    "        sample_string = \"\"\n",
    "        for i in sewer.keys():\n",
    "            if sewer[i].status == 1:\n",
    "                sample_string += i + \" \"\n",
    "        print(\"VIABLE SAMPLE LOCATIONS:\", sample_string)\n",
    "        \n",
    "    \n",
    "    return infected, recovered"
   ]
  },
  {
   "cell_type": "code",
   "execution_count": 27,
   "metadata": {},
   "outputs": [
    {
     "name": "stdout",
     "output_type": "stream",
     "text": [
      "0 | STATUS: 0 | ADJ: [1, 4]\n",
      "1 | STATUS: 0 | ADJ: [2, 3]\n",
      "2 | STATUS: 0 | ADJ: [1, 4]\n",
      "3 | STATUS: 1 | ADJ: [1, 4]\n",
      "4 | STATUS: 0 | ADJ: [0, 2]\n",
      "0-4 | STATUS: 0 | ADJ: [0, 4]\n",
      "1-2-3 | STATUS: 0 | ADJ: [1, 2, 3]\n",
      "end | STATUS: 0 | ADJ: []\n",
      "TIME --------------------------------- 1\n",
      "INFECTED: 1 4  RECOVERED: 3 \n",
      "VIABLE SAMPLE LOCATIONS: 0-4 1-2-3 \n",
      "TIME --------------------------------- 2\n",
      "INFECTED: 1 4 2 0  RECOVERED: 3 \n",
      "VIABLE SAMPLE LOCATIONS: 0-4 1-2-3 end \n",
      "TIME --------------------------------- 3\n",
      "INFECTED: 1 4 2  RECOVERED: 3 0 \n",
      "VIABLE SAMPLE LOCATIONS: 0-4 1-2-3 end \n",
      "TIME --------------------------------- 4\n",
      "INFECTED: 1 4  RECOVERED: 3 0 2 \n",
      "VIABLE SAMPLE LOCATIONS: 0-4 1-2-3 end \n",
      "TIME --------------------------------- 5\n",
      "INFECTED: 4  RECOVERED: 3 0 2 1 \n",
      "VIABLE SAMPLE LOCATIONS: 0-4 1-2-3 end \n",
      "TIME --------------------------------- 6\n",
      "INFECTED: 4  RECOVERED: 3 0 2 1 \n",
      "VIABLE SAMPLE LOCATIONS: 0-4 1-2-3 end \n",
      "TIME --------------------------------- 7\n",
      "INFECTED:  RECOVERED: 3 0 2 1 4 \n",
      "VIABLE SAMPLE LOCATIONS: 1-2-3 end \n",
      "TIME --------------------------------- 8\n",
      "INFECTED:  RECOVERED: 3 0 2 1 4 \n",
      "VIABLE SAMPLE LOCATIONS: end \n",
      "TIME --------------------------------- 9\n",
      "INFECTED:  RECOVERED: 3 0 2 1 4 \n",
      "VIABLE SAMPLE LOCATIONS: \n",
      "TIME --------------------------------- 10\n",
      "INFECTED:  RECOVERED: 3 0 2 1 4 \n",
      "VIABLE SAMPLE LOCATIONS: \n"
     ]
    },
    {
     "data": {
      "text/plain": [
       "([],\n",
       " [<__main__.Node at 0x160f2659d30>,\n",
       "  <__main__.Node at 0x160f261d340>,\n",
       "  <__main__.Node at 0x160f2659400>,\n",
       "  <__main__.Node at 0x160f2659a90>,\n",
       "  <__main__.Node at 0x160f26591c0>])"
      ]
     },
     "execution_count": 27,
     "metadata": {},
     "output_type": "execute_result"
    }
   ],
   "source": [
    "net, sewer = build_sewer_net(\"sample.txt\")\n",
    "net[3].status = 1\n",
    "for i in net:\n",
    "    print(i)\n",
    "for i in sewer.keys():\n",
    "    print(sewer[i])\n",
    "    \n",
    "sample_simulate(net, sewer, [0.5, 0.2], 10)"
   ]
  },
  {
   "cell_type": "code",
   "execution_count": 29,
   "metadata": {},
   "outputs": [
    {
     "name": "stdout",
     "output_type": "stream",
     "text": [
      "0 | STATUS: 0 | ADJ: [1, 2]\n",
      "1 | STATUS: 0 | ADJ: [0, 3]\n",
      "2 | STATUS: 0 | ADJ: [0, 3]\n",
      "3 | STATUS: 1 | ADJ: [1, 2]\n",
      "4 | STATUS: 0 | ADJ: [5]\n",
      "5 | STATUS: 0 | ADJ: [4, 6]\n",
      "6 | STATUS: 1 | ADJ: [7, 8]\n",
      "7 | STATUS: 0 | ADJ: [6, 10]\n",
      "8 | STATUS: 0 | ADJ: [6, 9]\n",
      "9 | STATUS: 0 | ADJ: [8, 10]\n",
      "10 | STATUS: 0 | ADJ: [7, 9]\n",
      "0-1-2-3 | STATUS: 0 | ADJ: [0, 1, 2, 3]\n",
      "4-5 | STATUS: 0 | ADJ: [4, 5]\n",
      "6-7-8-9-10 | STATUS: 0 | ADJ: [6, 7, 8, 9, 10]\n",
      "end | STATUS: 0 | ADJ: []\n",
      "TIME --------------------------------- 1\n",
      "INFECTED: 3 6  RECOVERED: \n",
      "VIABLE SAMPLE LOCATIONS: 0-1-2-3 6-7-8-9-10 \n",
      "TIME --------------------------------- 2\n",
      "INFECTED: 3 8  RECOVERED: 6 \n",
      "VIABLE SAMPLE LOCATIONS: 0-1-2-3 4-5 6-7-8-9-10 end \n",
      "TIME --------------------------------- 3\n",
      "INFECTED: 3 8  RECOVERED: 6 \n",
      "VIABLE SAMPLE LOCATIONS: 0-1-2-3 4-5 6-7-8-9-10 end \n",
      "TIME --------------------------------- 4\n",
      "INFECTED: 3 8  RECOVERED: 6 \n",
      "VIABLE SAMPLE LOCATIONS: 0-1-2-3 4-5 6-7-8-9-10 end \n",
      "TIME --------------------------------- 5\n",
      "INFECTED: 8  RECOVERED: 6 3 \n",
      "VIABLE SAMPLE LOCATIONS: 4-5 6-7-8-9-10 end \n",
      "TIME --------------------------------- 6\n",
      "INFECTED: 8  RECOVERED: 6 3 \n",
      "VIABLE SAMPLE LOCATIONS: 6-7-8-9-10 end \n",
      "TIME --------------------------------- 7\n",
      "INFECTED: 8  RECOVERED: 6 3 \n",
      "VIABLE SAMPLE LOCATIONS: 6-7-8-9-10 end \n",
      "TIME --------------------------------- 8\n",
      "INFECTED: 8  RECOVERED: 6 3 \n",
      "VIABLE SAMPLE LOCATIONS: 6-7-8-9-10 end \n",
      "TIME --------------------------------- 9\n",
      "INFECTED: 8  RECOVERED: 6 3 \n",
      "VIABLE SAMPLE LOCATIONS: 6-7-8-9-10 end \n",
      "TIME --------------------------------- 10\n",
      "INFECTED: 8  RECOVERED: 6 3 \n",
      "VIABLE SAMPLE LOCATIONS: 6-7-8-9-10 end \n",
      "TIME --------------------------------- 11\n",
      "INFECTED: 8  RECOVERED: 6 3 \n",
      "VIABLE SAMPLE LOCATIONS: 6-7-8-9-10 end \n",
      "TIME --------------------------------- 12\n",
      "INFECTED: 8  RECOVERED: 6 3 \n",
      "VIABLE SAMPLE LOCATIONS: 6-7-8-9-10 end \n",
      "TIME --------------------------------- 13\n",
      "INFECTED: 8  RECOVERED: 6 3 \n",
      "VIABLE SAMPLE LOCATIONS: 6-7-8-9-10 end \n",
      "TIME --------------------------------- 14\n",
      "INFECTED: 8  RECOVERED: 6 3 \n",
      "VIABLE SAMPLE LOCATIONS: 6-7-8-9-10 end \n",
      "TIME --------------------------------- 15\n",
      "INFECTED: 8  RECOVERED: 6 3 \n",
      "VIABLE SAMPLE LOCATIONS: 6-7-8-9-10 end \n",
      "TIME --------------------------------- 16\n",
      "INFECTED: 8  RECOVERED: 6 3 \n",
      "VIABLE SAMPLE LOCATIONS: 6-7-8-9-10 end \n",
      "TIME --------------------------------- 17\n",
      "INFECTED: 8  RECOVERED: 6 3 \n",
      "VIABLE SAMPLE LOCATIONS: 6-7-8-9-10 end \n",
      "TIME --------------------------------- 18\n",
      "INFECTED: 8  RECOVERED: 6 3 \n",
      "VIABLE SAMPLE LOCATIONS: 6-7-8-9-10 end \n",
      "TIME --------------------------------- 19\n",
      "INFECTED: 8 9  RECOVERED: 6 3 \n",
      "VIABLE SAMPLE LOCATIONS: 6-7-8-9-10 end \n",
      "TIME --------------------------------- 20\n",
      "INFECTED: 8 9  RECOVERED: 6 3 \n",
      "VIABLE SAMPLE LOCATIONS: 6-7-8-9-10 end \n",
      "TIME --------------------------------- 21\n",
      "INFECTED: 8 9  RECOVERED: 6 3 \n",
      "VIABLE SAMPLE LOCATIONS: 6-7-8-9-10 end \n",
      "TIME --------------------------------- 22\n",
      "INFECTED: 8 9  RECOVERED: 6 3 \n",
      "VIABLE SAMPLE LOCATIONS: 6-7-8-9-10 end \n",
      "TIME --------------------------------- 23\n",
      "INFECTED: 8 9  RECOVERED: 6 3 \n",
      "VIABLE SAMPLE LOCATIONS: 6-7-8-9-10 end \n",
      "TIME --------------------------------- 24\n",
      "INFECTED: 8 9  RECOVERED: 6 3 \n",
      "VIABLE SAMPLE LOCATIONS: 6-7-8-9-10 end \n",
      "TIME --------------------------------- 25\n",
      "INFECTED: 8 9  RECOVERED: 6 3 \n",
      "VIABLE SAMPLE LOCATIONS: 6-7-8-9-10 end \n"
     ]
    },
    {
     "data": {
      "text/plain": [
       "([<__main__.Node at 0x160f2676be0>, <__main__.Node at 0x160f26761c0>],\n",
       " [<__main__.Node at 0x160f2676b20>, <__main__.Node at 0x160f2659730>])"
      ]
     },
     "execution_count": 29,
     "metadata": {},
     "output_type": "execute_result"
    }
   ],
   "source": [
    "net, sewer = build_sewer_net(\"sample2.txt\")\n",
    "net[3].status = 1\n",
    "net[6].status = 1\n",
    "for i in net:\n",
    "    print(i)\n",
    "for i in sewer.keys():\n",
    "    print(sewer[i])\n",
    "    # print(sewer[i].nearest_manhole)\n",
    "    \n",
    "sample_simulate(net, sewer, [0.1, 0.08], 25)"
   ]
  },
  {
   "cell_type": "code",
   "execution_count": 23,
   "metadata": {},
   "outputs": [
    {
     "name": "stdout",
     "output_type": "stream",
     "text": [
      "0-1-2-3 | STATUS: 1 | ADJ: [0, 1, 2, 3]\n",
      "4-5\n",
      "4-5 | STATUS: 0 | ADJ: [4, 5]\n",
      "6-7-8-9-10\n",
      "6-7-8-9-10 | STATUS: 1 | ADJ: [6, 7, 8, 9, 10]\n",
      "end\n",
      "end | STATUS: 1 | ADJ: []\n",
      "None\n"
     ]
    }
   ],
   "source": [
    "for i in sewer.keys():\n",
    "    print(sewer[i])\n",
    "    print(sewer[i].nearest_manhole)"
   ]
  },
  {
   "cell_type": "code",
   "execution_count": null,
   "metadata": {},
   "outputs": [],
   "source": []
  }
 ],
 "metadata": {
  "kernelspec": {
   "display_name": "Python 3",
   "language": "python",
   "name": "python3"
  },
  "language_info": {
   "codemirror_mode": {
    "name": "ipython",
    "version": 3
   },
   "file_extension": ".py",
   "mimetype": "text/x-python",
   "name": "python",
   "nbconvert_exporter": "python",
   "pygments_lexer": "ipython3",
   "version": "3.8.3"
  }
 },
 "nbformat": 4,
 "nbformat_minor": 4
}
